{
  "nbformat": 4,
  "nbformat_minor": 0,
  "metadata": {
    "colab": {
      "provenance": []
    },
    "kernelspec": {
      "name": "python3",
      "display_name": "Python 3"
    },
    "language_info": {
      "name": "python"
    }
  },
  "cells": [
    {
      "cell_type": "code",
      "execution_count": null,
      "metadata": {
        "id": "fONpr-Ue6WfP",
        "outputId": "6736b738-39cf-4988-c0e6-dfe3bc158b83",
        "colab": {
          "base_uri": "https://localhost:8080/"
        }
      },
      "outputs": [
        {
          "output_type": "stream",
          "name": "stdout",
          "text": [
            "Enter the infix notation separated by space: 3 5 - 8 + * 5\n",
            "358-5*+\n"
          ]
        }
      ],
      "source": [
        "def precedence(a):\n",
        "    if a==\"+\" or a==\"-\":\n",
        "        return 1\n",
        "    if a==\"*\" or a==\"/\":\n",
        "        return 2\n",
        "\n",
        "a = list(input(\"Enter the infix notation separated by space: \").split(\" \"))\n",
        "postfix = \"\"\n",
        "opstack = []\n",
        "for i in a:\n",
        "    if i in [\"+\", \"-\", \"*\", \"/\"]:\n",
        "        if((len(opstack)==0) or (precedence(i)>precedence(opstack[-1]))):\n",
        "            opstack.append(i)\n",
        "        else:\n",
        "            postfix+=opstack.pop()\n",
        "            opstack.append(i)\n",
        "    elif i==\" \":\n",
        "        continue\n",
        "    else:\n",
        "        postfix+=i\n",
        "while(len(opstack)!=0):\n",
        "    postfix+=opstack.pop()\n",
        "print(postfix)"
      ]
    },
    {
      "cell_type": "code",
      "source": [
        "a = list(input(\"Enter the postfix expression: \").split(\" \"))\n",
        "stack = []\n",
        "for i in a:\n",
        "   # if(len(stack)==1 and i==a[-1]):\n",
        "    #    stack[0]= -stack[0]\n",
        "     #   break\n",
        "    if(i in [\"+\", \"-\", \"*\", \"/\"]):\n",
        "        b = stack.pop()\n",
        "        c = stack.pop()\n",
        "        if(i==\"+\"):\n",
        "            stack.append(c+b)\n",
        "        elif(i==\"-\"):\n",
        "            stack.append(c-b)\n",
        "        elif(i==\"*\"):\n",
        "            stack.append(c*b)\n",
        "        elif(i==\"/\"):\n",
        "            stack.append(c/b)\n",
        "    elif i==\" \":\n",
        "        continue\n",
        "    else:\n",
        "        stack.append(int(i))\n",
        "print(\"The result of the expression: \",stack[0])"
      ],
      "metadata": {
        "id": "bxzSICuq6rbs",
        "outputId": "cf1f5db4-7ca2-4305-bb06-9ca3bb9c78c9",
        "colab": {
          "base_uri": "https://localhost:8080/"
        }
      },
      "execution_count": null,
      "outputs": [
        {
          "output_type": "stream",
          "name": "stdout",
          "text": [
            "Enter the postfix expression: 4 7 + 8 *\n",
            "The result of the expression:  88\n"
          ]
        }
      ]
    }
  ]
}