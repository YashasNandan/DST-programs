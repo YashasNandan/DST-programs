{
  "nbformat": 4,
  "nbformat_minor": 0,
  "metadata": {
    "colab": {
      "provenance": []
    },
    "kernelspec": {
      "name": "python3",
      "display_name": "Python 3"
    },
    "language_info": {
      "name": "python"
    }
  },
  "cells": [
    {
      "cell_type": "code",
      "execution_count": null,
      "metadata": {
        "colab": {
          "base_uri": "https://localhost:8080/"
        },
        "id": "f-5FoY_YUuGh",
        "outputId": "af3e117e-52b6-46f8-f454-053cdbc58553"
      },
      "outputs": [
        {
          "output_type": "stream",
          "name": "stdout",
          "text": [
            "<__main__.Node object at 0x7bd735b63dc0>\n"
          ]
        }
      ],
      "source": [
        "class Node:\n",
        "  def __init__(self,data):\n",
        "    self.data=data\n",
        "    self.ref=None\n",
        "node1=Node(10)\n",
        "print(node1)"
      ]
    },
    {
      "cell_type": "code",
      "source": [
        "#traversal\n",
        "class LinkedList:\n",
        "  def __init__(self):\n",
        "    self.head=None\n",
        "  def printll(self):\n",
        "    if self.head is None:\n",
        "      print(\"linked list is empty\")\n",
        "    else:\n",
        "      n=self.head\n",
        "      while n is not None:\n",
        "        print(n.data)\n",
        "        n=n.ref\n",
        "ll1=LinkedList()\n",
        "ll1.printll()"
      ],
      "metadata": {
        "colab": {
          "base_uri": "https://localhost:8080/"
        },
        "id": "8cr--qGybrS3",
        "outputId": "9af99e08-c427-4ae5-845d-3799c276732c"
      },
      "execution_count": null,
      "outputs": [
        {
          "output_type": "stream",
          "name": "stdout",
          "text": [
            "linked list is empty\n"
          ]
        }
      ]
    },
    {
      "cell_type": "code",
      "source": [
        "class LinkedList:\n",
        "  def __init__(self):\n",
        "    self.head=None\n",
        "  def printll(self):\n",
        "    if self.head is None:\n",
        "      print(\"linked list is empty\")\n",
        "    else:\n",
        "      n=self.head\n",
        "      while n is not None:\n",
        "        print(n.data,\"-->\",end='empty')\n",
        "        n=n.ref\n",
        "#adding node at end\n",
        "  def addend (self,data):\n",
        "    new_node=Node(data)\n",
        "    if self.head is None:\n",
        "      self.head=new_node\n",
        "    else:\n",
        "      n=self.head\n",
        "      while n.ref is not None:\n",
        "        n=n.ref\n",
        "      n.ref=new_node\n",
        "#adding node at beggining\n",
        "  def addbegn(self,data):\n",
        "    new_node=Node(data)\n",
        "    new_node.ref=self.head\n",
        "    self.head=new_node\n",
        "#adding node in between\n",
        "  def addafter(self,data,x):\n",
        "    n=self.head\n",
        "    while n is not Node:\n",
        "      if x==n.data:\n",
        "        break\n",
        "      n=n.ref\n",
        "    if n is None:\n",
        "      print(\"Node is not present in linked list\")\n",
        "    else:\n",
        "      new_node=Node(data)\n",
        "      new_node.ref=n.ref\n",
        "      n.ref=new_node\n",
        "u1=LinkedList()\n",
        "u1.addend(10)\n",
        "u1.addbegn(30)\n",
        "u1.addend(20)\n",
        "u1.addbegn(40)\n",
        "u1.addafter(50,30)\n",
        "u1.printll()"
      ],
      "metadata": {
        "colab": {
          "base_uri": "https://localhost:8080/"
        },
        "id": "5cq8O_Hqh_WU",
        "outputId": "1cb5eba5-b993-493c-b1ce-b76c86a024a5"
      },
      "execution_count": null,
      "outputs": [
        {
          "output_type": "stream",
          "name": "stdout",
          "text": [
            "40 -->empty30 -->empty50 -->empty10 -->empty20 -->empty"
          ]
        }
      ]
    },
    {
      "cell_type": "code",
      "source": [
        "class LinkedList:\n",
        "  def __init__(self):\n",
        "    self.head=None\n",
        "  def printll(self):\n",
        "    if self.head is None:\n",
        "      print(\"linked list is empty\")\n",
        "    else:\n",
        "      n=self.head\n",
        "      while n is not None:\n",
        "        print(n.data,\"-->\",end='empty')\n",
        "        n=n.ref\n",
        "  def addbegin(self,data):\n",
        "    new_node=Node(data)\n",
        "    new_node.ref=self.head\n",
        "    self.head=new_node\n",
        "#delete at beginning\n",
        "  def delbegin(self):\n",
        "    if self.head is None:\n",
        "      print('linked list is empty so we cannot delete nodes')\n",
        "    else:\n",
        "      self.head=self.head.ref\n",
        "#delete at end\n",
        "  def delend(self):\n",
        "    if self.head is None:\n",
        "      print(\"linked list is empty so we cannot delete nodes\")\n",
        "    else:\n",
        "      n=self.head\n",
        "      while n.ref.ref is not None:\n",
        "        n=n.ref\n",
        "      n.ref=None\n",
        "#delete in between\n",
        "  def delbetween(self,x):\n",
        "    if\n",
        "ll1=LinkedList()\n",
        "ll1.addbegin(10)\n",
        "ll1.addbegin(20)\n",
        "ll1.addbegin(30)\n",
        "ll1.addbegin(40)\n",
        "ll1.delbegin()\n",
        "ll1.delend()\n",
        "ll1.printll()"
      ],
      "metadata": {
        "colab": {
          "base_uri": "https://localhost:8080/"
        },
        "id": "zYvF9hP5m-P9",
        "outputId": "a1777e8c-1fb4-41b4-aea1-cfa594bf586f"
      },
      "execution_count": null,
      "outputs": [
        {
          "output_type": "stream",
          "name": "stdout",
          "text": [
            "30 -->empty20 -->empty"
          ]
        }
      ]
    }
  ]
}